{
 "cells": [
  {
   "cell_type": "code",
   "execution_count": 1,
   "metadata": {},
   "outputs": [],
   "source": [
    "from stats import *\n",
    "import os\n",
    "import numpy as np"
   ]
  },
  {
   "cell_type": "code",
   "execution_count": 2,
   "metadata": {},
   "outputs": [],
   "source": [
    "def get_class_label(tag:int, label:np.array(float)):\n",
    "    gt = label.copy()\n",
    "    for i in range(len(gt)):\n",
    "        if gt[i]==tag : \n",
    "            gt[i]=1\n",
    "        else:\n",
    "            gt[i]=0\n",
    "    return gt"
   ]
  },
  {
   "cell_type": "code",
   "execution_count": 3,
   "metadata": {},
   "outputs": [],
   "source": [
    "dir_base = '/home/nguyen-k/Bureau/segCassiopet2/Comparatif'\n",
    "dir_1 = os.path.join(dir_base,'Archives_reunion/Multitask_PET_L0')\n",
    "dir_2 = os.path.join(dir_base,'Archives_4diffuse_noSeg/Multitask_PET_L0')\n",
    "dir_3 = os.path.join(dir_base,'Archives_4diffuse/Multitask_PET_L0')\n",
    "dir_4 = os.path.join(dir_base,'Archives_Encodeur/Encodeur_PET_L0')\n",
    "\n",
    "best_fold_1 = 'Fold4'\n",
    "best_fold_2 = 'Fold4'\n",
    "best_fold_3 = 'Fold5'\n",
    "best_fold_4 = 'Fold5'"
   ]
  },
  {
   "cell_type": "code",
   "execution_count": 4,
   "metadata": {},
   "outputs": [],
   "source": [
    "# get label\n",
    "ground_truth_ini = np.load('/home/nguyen-k/Bureau/segCassiopet2/List_Patient_0/Test/test_label_classe.npy') \n",
    "\n",
    "# get proba prediction of best fold \n",
    "prob_1_ini = np.load(os.path.join(dir_1,best_fold_1,'test_prob.npy'))\n",
    "prob_2_ini = np.load(os.path.join(dir_2,best_fold_2,'test_prob.npy'))\n",
    "prob_3_ini = np.load(os.path.join(dir_3,best_fold_3,'test_prob.npy'))\n",
    "prob_4_ini = np.load(os.path.join(dir_4,best_fold_4,'test_prob.npy'))"
   ]
  },
  {
   "cell_type": "code",
   "execution_count": 5,
   "metadata": {},
   "outputs": [],
   "source": [
    "# function to compute p-value using Delong method\n",
    "def get_p_value(tag,ground_truth_ini,prob_1_ini,prob_2_ini,prob_3_ini,prob_4_ini):\n",
    "    ground_truth = get_class_label(tag,ground_truth_ini)\n",
    "    prob_1 = prob_1_ini[:,tag]\n",
    "    prob_2 = prob_2_ini[:,tag]\n",
    "    prob_3 = prob_3_ini[:,tag]\n",
    "    prob_4 = prob_4_ini[:,tag]\n",
    "    pv_log10 = delong_roc_test(ground_truth, prob_1, prob_2)\n",
    "    pv_12 = 10**pv_log10[0][0]\n",
    "    pv_log10 = delong_roc_test(ground_truth, prob_3, prob_2)\n",
    "    pv_23 = 10**pv_log10[0][0]\n",
    "    pv_log10 = delong_roc_test(ground_truth, prob_1, prob_3)\n",
    "    pv_13 = 10**pv_log10[0][0]\n",
    "    pv_log10 = delong_roc_test(ground_truth, prob_1, prob_4)\n",
    "    pv_14 = 10**pv_log10[0][0]\n",
    "    pv_log10 = delong_roc_test(ground_truth, prob_2, prob_4)\n",
    "    pv_24 = 10**pv_log10[0][0]\n",
    "    pv_log10 = delong_roc_test(ground_truth, prob_3, prob_4)\n",
    "    pv_34 = 10**pv_log10[0][0]\n",
    "    return pv_12, pv_23, pv_13, pv_14, pv_24, pv_34 "
   ]
  },
  {
   "cell_type": "code",
   "execution_count": 6,
   "metadata": {},
   "outputs": [
    {
     "name": "stdout",
     "output_type": "stream",
     "text": [
      "\n",
      "class =  2 \n",
      "\n",
      "aucs  [0.61594203 0.92028986]\n",
      "aucs  [0.88405797 0.92028986]\n",
      "aucs  [0.61594203 0.88405797]\n",
      "aucs  [0.61594203 0.84057971]\n",
      "aucs  [0.92028986 0.84057971]\n",
      "aucs  [0.88405797 0.84057971]\n",
      "0.23246367528973444 0.4156632948224017 0.22172606779904402 0.4822897583220659 0.4966229430678623 0.7559543091882874\n",
      "\n",
      "class =  1 \n",
      "\n",
      "aucs  [0.60526316 0.6291866 ]\n",
      "aucs  [0.53349282 0.6291866 ]\n",
      "aucs  [0.60526316 0.53349282]\n",
      "aucs  [0.60526316 0.49043062]\n",
      "aucs  [0.6291866  0.49043062]\n",
      "aucs  [0.53349282 0.49043062]\n",
      "0.8480784547594431 0.3384915300384115 0.5378570008544382 0.314646572827773 0.3115152134649586 0.7244051812074813\n",
      "\n",
      "class =  0 \n",
      "\n",
      "aucs  [0.64897959 0.6877551 ]\n",
      "aucs  [0.59795918 0.6877551 ]\n",
      "aucs  [0.64897959 0.59795918]\n",
      "aucs  [0.64897959 0.57959184]\n",
      "aucs  [0.6877551  0.57959184]\n",
      "aucs  [0.59795918 0.57959184]\n",
      "0.7117641249049868 0.33477354950264265 0.6079018291475219 0.4989432336207029 0.31755637840862727 0.8571024252977725\n"
     ]
    }
   ],
   "source": [
    "# get p-value for class 2 (treatment response) : best fold method\n",
    "tag=2\n",
    "print('\\nclass = ',tag,'\\n')\n",
    "pv_12, pv_23, pv_13, pv_14, pv_24, pv_34 = get_p_value(tag,ground_truth_ini,prob_1_ini,prob_2_ini,prob_3_ini,prob_4_ini)\n",
    "print(pv_12,pv_23,pv_13,pv_14,pv_24,pv_34)\n",
    "\n",
    "# get p-value for class 1 (treatment response) : best fold method\n",
    "tag=1\n",
    "print('\\nclass = ',tag,'\\n')\n",
    "pv_12, pv_23, pv_13, pv_14, pv_24, pv_34 = get_p_value(tag,ground_truth_ini,prob_1_ini,prob_2_ini,prob_3_ini,prob_4_ini)\n",
    "print(pv_12,pv_23,pv_13,pv_14,pv_24,pv_34)\n",
    "\n",
    "# get p-value for class 0 (treatment response) : best fold method\n",
    "tag=0\n",
    "print('\\nclass = ',tag,'\\n')\n",
    "pv_12, pv_23, pv_13, pv_14, pv_24, pv_34 = get_p_value(tag,ground_truth_ini,prob_1_ini,prob_2_ini,prob_3_ini,prob_4_ini)\n",
    "print(pv_12,pv_23,pv_13,pv_14,pv_24,pv_34)\n"
   ]
  },
  {
   "cell_type": "code",
   "execution_count": 7,
   "metadata": {},
   "outputs": [],
   "source": [
    "# get average probability prediction over 5 folds\n",
    "def get_avg_prob(dir):\n",
    "    fold = 1\n",
    "    dir_p = dir+'/Fold'+str(fold)\n",
    "    sum = np.load(os.path.join(dir_p, 'test_prob.npy'))\n",
    "\n",
    "\n",
    "    for fold in range(2, 6) :\n",
    "        dir_p = dir+'/Fold'+str(fold)\n",
    "        test_prob = np.load(os.path.join(dir_p, 'test_prob.npy'))\n",
    "        sum += test_prob\n",
    "\n",
    "    test_prob = sum / 5\n",
    "    return test_prob"
   ]
  },
  {
   "cell_type": "code",
   "execution_count": 8,
   "metadata": {},
   "outputs": [
    {
     "name": "stdout",
     "output_type": "stream",
     "text": [
      "\n",
      "class =  2 \n",
      "\n",
      "aucs  [0.79710145 0.81884058]\n",
      "aucs  [0.82608696 0.81884058]\n",
      "aucs  [0.79710145 0.82608696]\n",
      "aucs  [0.79710145 0.73913043]\n",
      "aucs  [0.81884058 0.73913043]\n",
      "aucs  [0.82608696 0.73913043]\n",
      "0.6284973737353075 0.9362858465813705 0.7460325948660228 0.5980732069081387 0.39836490321621726 0.6272191181223329\n",
      "\n",
      "class =  1 \n",
      "\n",
      "aucs  [0.59569378 0.58133971]\n",
      "aucs  [0.50239234 0.58133971]\n",
      "aucs  [0.59569378 0.50239234]\n",
      "aucs  [0.59569378 0.38995215]\n",
      "aucs  [0.58133971 0.38995215]\n",
      "aucs  [0.50239234 0.38995215]\n",
      "0.8562498676415088 0.20040701948230688 0.11483956912221796 0.06819354849499998 0.06329472796003852 0.23186514517559403\n",
      "\n",
      "class =  0 \n",
      "\n",
      "aucs  [0.64285714 0.67959184]\n",
      "aucs  [0.62040816 0.67959184]\n",
      "aucs  [0.64285714 0.62040816]\n",
      "aucs  [0.64285714 0.5244898 ]\n",
      "aucs  [0.67959184 0.5244898 ]\n",
      "aucs  [0.62040816 0.5244898 ]\n",
      "0.6022834668606145 0.24733845924458095 0.7265761505364254 0.22007881866716691 0.038564439197176566 0.1614384545252491\n"
     ]
    }
   ],
   "source": [
    "# get average prob for diferent methods\n",
    "avg_prob_1_ini = get_avg_prob(dir_1)\n",
    "avg_prob_2_ini = get_avg_prob(dir_2)\n",
    "avg_prob_3_ini = get_avg_prob(dir_3)\n",
    "avg_prob_4_ini = get_avg_prob(dir_4)\n",
    "\n",
    "# get p-value for class 2 (treatment response)\n",
    "tag=2\n",
    "print('\\nclass = ',tag,'\\n')\n",
    "pv_12, pv_23, pv_13, pv_14, pv_24, pv_34 = get_p_value(tag,ground_truth_ini,avg_prob_1_ini,avg_prob_2_ini,avg_prob_3_ini,avg_prob_4_ini)\n",
    "print(pv_12,pv_23,pv_13,pv_14,pv_24,pv_34)\n",
    "\n",
    "# get p-value for class 1 (treatment response)\n",
    "tag=1\n",
    "print('\\nclass = ',tag,'\\n')\n",
    "pv_12, pv_23, pv_13, pv_14, pv_24, pv_34 = get_p_value(tag,ground_truth_ini,avg_prob_1_ini,avg_prob_2_ini,avg_prob_3_ini,avg_prob_4_ini)\n",
    "print(pv_12,pv_23,pv_13,pv_14,pv_24,pv_34)\n",
    "\n",
    "# get p-value for class 0 (treatment response)\n",
    "tag=0\n",
    "print('\\nclass = ',tag,'\\n')\n",
    "pv_12, pv_23, pv_13, pv_14, pv_24, pv_34 = get_p_value(tag,ground_truth_ini,avg_prob_1_ini,avg_prob_2_ini,avg_prob_3_ini,avg_prob_4_ini)\n",
    "print(pv_12,pv_23,pv_13,pv_14,pv_24,pv_34)"
   ]
  }
 ],
 "metadata": {
  "kernelspec": {
   "display_name": "Python 3.10.4 64-bit",
   "language": "python",
   "name": "python3"
  },
  "language_info": {
   "codemirror_mode": {
    "name": "ipython",
    "version": 3
   },
   "file_extension": ".py",
   "mimetype": "text/x-python",
   "name": "python",
   "nbconvert_exporter": "python",
   "pygments_lexer": "ipython3",
   "version": "3.10.4"
  },
  "orig_nbformat": 4,
  "vscode": {
   "interpreter": {
    "hash": "31f2aee4e71d21fbe5cf8b01ff0e069b9275f58929596ceb00d14d90e3e16cd6"
   }
  }
 },
 "nbformat": 4,
 "nbformat_minor": 2
}
