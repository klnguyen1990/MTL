{
 "cells": [
  {
   "cell_type": "code",
   "execution_count": 1,
   "metadata": {},
   "outputs": [
    {
     "name": "stderr",
     "output_type": "stream",
     "text": [
      "/home/nguyen-k/.local/lib/python3.10/site-packages/tqdm/auto.py:22: TqdmWarning: IProgress not found. Please update jupyter and ipywidgets. See https://ipywidgets.readthedocs.io/en/stable/user_install.html\n",
      "  from .autonotebook import tqdm as notebook_tqdm\n"
     ]
    },
    {
     "name": "stdout",
     "output_type": "stream",
     "text": [
      "\n",
      "\n",
      "Please cite the following paper when using nnUNet:\n",
      "\n",
      "Isensee, F., Jaeger, P.F., Kohl, S.A.A. et al. \"nnU-Net: a self-configuring method for deep learning-based biomedical image segmentation.\" Nat Methods (2020). https://doi.org/10.1038/s41592-020-01008-z\n",
      "\n",
      "\n",
      "If you have questions or suggestions, feel free to open an issue at https://github.com/MIC-DKFZ/nnUNet\n",
      "\n"
     ]
    },
    {
     "name": "stderr",
     "output_type": "stream",
     "text": [
      "[NbConvertApp] Converting notebook Pytorch_model.ipynb to python\n",
      "[NbConvertApp] Writing 30086 bytes to Pytorch_model.py\n",
      "[NbConvertApp] Converting notebook Pytorch_train_encodeur.ipynb to python\n",
      "[NbConvertApp] Writing 10749 bytes to Pytorch_train_encodeur.py\n",
      "[NbConvertApp] Converting notebook Pytorch_dataloader.ipynb to python\n",
      "[NbConvertApp] Writing 31657 bytes to Pytorch_dataloader.py\n",
      "[NbConvertApp] Converting notebook preprocessing_Pytorch.ipynb to python\n",
      "[NbConvertApp] Writing 28850 bytes to preprocessing_Pytorch.py\n",
      "[NbConvertApp] Converting notebook Pytorch_utils.ipynb to python\n",
      "[NbConvertApp] Writing 98282 bytes to Pytorch_utils.py\n",
      "[NbConvertApp] Converting notebook roc_Precision_Recall.ipynb to python\n",
      "[NbConvertApp] Writing 4174 bytes to roc_Precision_Recall.py\n"
     ]
    }
   ],
   "source": [
    "import os\n",
    "import random\n",
    "import torch\n",
    "import numpy as np\n",
    "from nnunet.inference.predict import load_model_and_checkpoint_files\n",
    "from sklearn.metrics import f1_score\n",
    "\n",
    "os.system('jupyter nbconvert --to python Pytorch_model.ipynb')\n",
    "from Pytorch_model import Encodeur_nnUnet, Encodeur_Net\n",
    "\n",
    "os.system('jupyter nbconvert --to python Pytorch_train_encodeur.ipynb')\n",
    "from Pytorch_train_encodeur import train, evaluation\n",
    "\n",
    "seed = 0\n",
    "torch.manual_seed(seed)\n",
    "random.seed(seed)\n",
    "np.random.seed(seed)"
   ]
  },
  {
   "cell_type": "code",
   "execution_count": 2,
   "metadata": {},
   "outputs": [],
   "source": [
    "#DATA\n",
    "dim = (32*4, 32*3, 32*6)\n",
    "spacing = 4\n",
    "\n",
    "#IMAGE GENERATOR\n",
    "scale = (0.80, 1.20)\n",
    "sigma = (0.3, 0.8)\n",
    "task = '001'\n",
    "#001 : PET PUV - 002 : PET sans SUV - 003 - PET CT 2 Channels - 004 - PET CT Fusion\n",
    "\n",
    "#MODELE\n",
    "learning_rate = 1e-4\n",
    "score_weight = 3\n",
    "drop_encode = 0.5\n",
    "l1_lambda_fc1, l2_lambda_fc1 = 1e-3, 1e-3\n",
    "weight_decay = 3e-5\n",
    "\n",
    "batch_size = 5\n",
    "nb_epoch = 40\n",
    "num_workers = 10\n",
    "patience = 3"
   ]
  },
  {
   "cell_type": "code",
   "execution_count": 3,
   "metadata": {},
   "outputs": [],
   "source": [
    "base = '/media/nguyen-k/nnUNet_trained_models/nnUNet/3d_fullres'\n",
    "list_task = os.listdir(base)\n",
    "\n",
    "for t in list_task :\n",
    "    if task in t :\n",
    "        folders = os.path.join(base, t, 'nnUNetTrainerV2__nnUNetPlansv2.1')"
   ]
  },
  {
   "cell_type": "code",
   "execution_count": 4,
   "metadata": {},
   "outputs": [
    {
     "name": "stdout",
     "output_type": "stream",
     "text": [
      "[Errno 17] File exists: '/home/nguyen-k/Bureau/segCassiopet2/Comparatif/Archives_Encodeur/Encodeur_PET_L0'\n",
      "LIST PATIENT 0  - FOLD 1\n",
      "\n",
      "\n",
      "\n",
      "folds is None so we will automatically look for output folders (not using 'all'!)\n",
      "found the following folds:  ['/media/nguyen-k/nnUNet_trained_models/nnUNet/3d_fullres/Task001/nnUNetTrainerV2__nnUNetPlansv2.1/fold_0']\n",
      "using the following model files:  ['/media/nguyen-k/nnUNet_trained_models/nnUNet/3d_fullres/Task001/nnUNetTrainerV2__nnUNetPlansv2.1/fold_0/model_best.model']\n",
      "LIST PATIENT 0  - FOLD 1  - VALIDATION\n",
      "Classification\n",
      "Micro F1 score  0.6666666666666666\n",
      "Macro F1 score  0.4045584045584045\n",
      "Weighted F1 score  0.6452991452991452\n",
      "LIST PATIENT 0  - FOLD 1  - TEST\n"
     ]
    },
    {
     "name": "stderr",
     "output_type": "stream",
     "text": [
      "/home/nguyen-k/Bureau/segCassiopet2/roc_Precision_Recall.py:81: UserWarning: Matplotlib is currently using agg, which is a non-GUI backend, so cannot show the figure.\n",
      "  plt.show()\n"
     ]
    },
    {
     "name": "stdout",
     "output_type": "stream",
     "text": [
      "Classification\n",
      "Micro F1 score  0.5918367346938775\n",
      "Macro F1 score  0.41933621933621934\n",
      "Weighted F1 score  0.5918367346938775\n",
      " \n",
      "LIST PATIENT 0  - FOLD 2\n",
      "folds is None so we will automatically look for output folders (not using 'all'!)\n",
      "found the following folds:  ['/media/nguyen-k/nnUNet_trained_models/nnUNet/3d_fullres/Task001/nnUNetTrainerV2__nnUNetPlansv2.1/fold_0']\n"
     ]
    },
    {
     "name": "stderr",
     "output_type": "stream",
     "text": [
      "/home/nguyen-k/Bureau/segCassiopet2/roc_Precision_Recall.py:81: UserWarning: Matplotlib is currently using agg, which is a non-GUI backend, so cannot show the figure.\n",
      "  plt.show()\n"
     ]
    },
    {
     "name": "stdout",
     "output_type": "stream",
     "text": [
      "using the following model files:  ['/media/nguyen-k/nnUNet_trained_models/nnUNet/3d_fullres/Task001/nnUNetTrainerV2__nnUNetPlansv2.1/fold_0/model_best.model']\n",
      "LIST PATIENT 0  - FOLD 2  - VALIDATION\n",
      "Classification\n",
      "Micro F1 score  0.6666666666666666\n",
      "Macro F1 score  0.36049382716049383\n",
      "Weighted F1 score  0.6325102880658435\n",
      "LIST PATIENT 0  - FOLD 2  - TEST\n"
     ]
    },
    {
     "name": "stderr",
     "output_type": "stream",
     "text": [
      "/home/nguyen-k/Bureau/segCassiopet2/roc_Precision_Recall.py:81: UserWarning: Matplotlib is currently using agg, which is a non-GUI backend, so cannot show the figure.\n",
      "  plt.show()\n"
     ]
    },
    {
     "name": "stdout",
     "output_type": "stream",
     "text": [
      "Classification\n",
      "Micro F1 score  0.5918367346938775\n",
      "Macro F1 score  0.28070175438596495\n",
      "Weighted F1 score  0.5499462943071967\n",
      " \n",
      "LIST PATIENT 0  - FOLD 3\n",
      "folds is None so we will automatically look for output folders (not using 'all'!)\n",
      "found the following folds:  ['/media/nguyen-k/nnUNet_trained_models/nnUNet/3d_fullres/Task001/nnUNetTrainerV2__nnUNetPlansv2.1/fold_0']\n"
     ]
    },
    {
     "name": "stderr",
     "output_type": "stream",
     "text": [
      "/home/nguyen-k/Bureau/segCassiopet2/roc_Precision_Recall.py:81: UserWarning: Matplotlib is currently using agg, which is a non-GUI backend, so cannot show the figure.\n",
      "  plt.show()\n"
     ]
    },
    {
     "name": "stdout",
     "output_type": "stream",
     "text": [
      "using the following model files:  ['/media/nguyen-k/nnUNet_trained_models/nnUNet/3d_fullres/Task001/nnUNetTrainerV2__nnUNetPlansv2.1/fold_0/model_best.model']\n",
      "LIST PATIENT 0  - FOLD 3  - VALIDATION\n",
      "Classification\n",
      "Micro F1 score  0.5\n",
      "Macro F1 score  0.2637037037037037\n",
      "Weighted F1 score  0.5\n",
      "LIST PATIENT 0  - FOLD 3  - TEST\n"
     ]
    },
    {
     "name": "stderr",
     "output_type": "stream",
     "text": [
      "/home/nguyen-k/Bureau/segCassiopet2/roc_Precision_Recall.py:81: UserWarning: Matplotlib is currently using agg, which is a non-GUI backend, so cannot show the figure.\n",
      "  plt.show()\n"
     ]
    },
    {
     "name": "stdout",
     "output_type": "stream",
     "text": [
      "Classification\n",
      "Micro F1 score  0.5306122448979592\n",
      "Macro F1 score  0.23744292237442924\n",
      "Weighted F1 score  0.5088062622309198\n",
      " \n",
      "LIST PATIENT 0  - FOLD 4\n",
      "folds is None so we will automatically look for output folders (not using 'all'!)\n",
      "found the following folds:  ['/media/nguyen-k/nnUNet_trained_models/nnUNet/3d_fullres/Task001/nnUNetTrainerV2__nnUNetPlansv2.1/fold_0']\n"
     ]
    },
    {
     "name": "stderr",
     "output_type": "stream",
     "text": [
      "/home/nguyen-k/Bureau/segCassiopet2/roc_Precision_Recall.py:81: UserWarning: Matplotlib is currently using agg, which is a non-GUI backend, so cannot show the figure.\n",
      "  plt.show()\n"
     ]
    },
    {
     "name": "stdout",
     "output_type": "stream",
     "text": [
      "using the following model files:  ['/media/nguyen-k/nnUNet_trained_models/nnUNet/3d_fullres/Task001/nnUNetTrainerV2__nnUNetPlansv2.1/fold_0/model_best.model']\n",
      "LIST PATIENT 0  - FOLD 4  - VALIDATION\n",
      "Classification\n",
      "Micro F1 score  0.6388888888888888\n",
      "Macro F1 score  0.3095238095238095\n",
      "Weighted F1 score  0.5813492063492062\n",
      "LIST PATIENT 0  - FOLD 4  - TEST\n"
     ]
    },
    {
     "name": "stderr",
     "output_type": "stream",
     "text": [
      "/home/nguyen-k/Bureau/segCassiopet2/roc_Precision_Recall.py:81: UserWarning: Matplotlib is currently using agg, which is a non-GUI backend, so cannot show the figure.\n",
      "  plt.show()\n"
     ]
    },
    {
     "name": "stdout",
     "output_type": "stream",
     "text": [
      "Classification\n",
      "Micro F1 score  0.5918367346938775\n",
      "Macro F1 score  0.2577777777777778\n",
      "Weighted F1 score  0.5523809523809524\n",
      " \n",
      "LIST PATIENT 0  - FOLD 5\n",
      "folds is None so we will automatically look for output folders (not using 'all'!)\n",
      "found the following folds:  ['/media/nguyen-k/nnUNet_trained_models/nnUNet/3d_fullres/Task001/nnUNetTrainerV2__nnUNetPlansv2.1/fold_0']\n"
     ]
    },
    {
     "name": "stderr",
     "output_type": "stream",
     "text": [
      "/home/nguyen-k/Bureau/segCassiopet2/roc_Precision_Recall.py:81: UserWarning: Matplotlib is currently using agg, which is a non-GUI backend, so cannot show the figure.\n",
      "  plt.show()\n"
     ]
    },
    {
     "name": "stdout",
     "output_type": "stream",
     "text": [
      "using the following model files:  ['/media/nguyen-k/nnUNet_trained_models/nnUNet/3d_fullres/Task001/nnUNetTrainerV2__nnUNetPlansv2.1/fold_0/model_best.model']\n",
      "LIST PATIENT 0  - FOLD 5  - VALIDATION\n",
      "Classification\n",
      "Micro F1 score  0.6944444444444444\n",
      "Macro F1 score  0.38011695906432746\n",
      "Weighted F1 score  0.6345029239766082\n",
      "LIST PATIENT 0  - FOLD 5  - TEST\n"
     ]
    },
    {
     "name": "stderr",
     "output_type": "stream",
     "text": [
      "/home/nguyen-k/Bureau/segCassiopet2/roc_Precision_Recall.py:81: UserWarning: Matplotlib is currently using agg, which is a non-GUI backend, so cannot show the figure.\n",
      "  plt.show()\n"
     ]
    },
    {
     "name": "stdout",
     "output_type": "stream",
     "text": [
      "Classification\n",
      "Micro F1 score  0.6530612244897959\n",
      "Macro F1 score  0.39493670886075954\n",
      "Weighted F1 score  0.5850684577628519\n",
      " \n"
     ]
    },
    {
     "name": "stderr",
     "output_type": "stream",
     "text": [
      "/home/nguyen-k/Bureau/segCassiopet2/roc_Precision_Recall.py:81: UserWarning: Matplotlib is currently using agg, which is a non-GUI backend, so cannot show the figure.\n",
      "  plt.show()\n"
     ]
    }
   ],
   "source": [
    "for ind_list in range(1) : \n",
    "\n",
    "    test = 'Encodeur_PET_L'+str(ind_list)\n",
    "    dir_base = '/home/nguyen-k/Bureau/segCassiopet2/Comparatif/Archives_Encodeur/'+test\n",
    "    try:\n",
    "        os.mkdir(dir_base)\n",
    "    except OSError as error: \n",
    "        print(error) \n",
    "\n",
    "    path_list = '/home/nguyen-k/Bureau/segCassiopet2/List_Patient_'+str(ind_list)\n",
    "    list_test = list(np.load(path_list + '/Test/list_test.npy'))\n",
    "    test_label_classe = np.load(path_list + '/Test/test_label_classe.npy')   \n",
    "    test_prob = np.zeros((len(list_test), 3))\n",
    "    np.save(dir_base+'/list_test.npy', list_test)\n",
    "    np.save(dir_base+'/test_label_classe.npy', test_label_classe)\n",
    "\n",
    "    for fold in range(1, 6) :\n",
    "        print('LIST PATIENT', ind_list, ' - FOLD', fold)  \n",
    "\n",
    "        dir_p = dir_base+'/Fold'+str(fold)\n",
    "        dir_p_1 = dir_p+'/Fig_seg_val'\n",
    "        dir_p_2 = dir_p+'/Fig_seg_test'\n",
    "\n",
    "        try:\n",
    "            os.mkdir(dir_p)\n",
    "        except OSError as error: \n",
    "            print('') \n",
    "\n",
    "        try:\n",
    "            os.mkdir(dir_p_1)\n",
    "        except OSError as error: \n",
    "            print('') \n",
    "\n",
    "        try:\n",
    "            os.mkdir(dir_p_2)\n",
    "        except OSError as error: \n",
    "            print('') \n",
    "\n",
    "        #TRAIN     \n",
    "        trainer, params_tr = load_model_and_checkpoint_files(folders, folds=None, mixed_precision=None, checkpoint_name=\"model_best\")\n",
    "        nn_Unet = Encodeur_nnUnet(trainer.network)\n",
    "        state_dict = trainer.network.state_dict()\n",
    "        nn_Unet.load_state_dict(state_dict)\n",
    "        EncodeurNet = Encodeur_Net(nn_Unet, drop_encode=drop_encode).cuda()   \n",
    "\n",
    "        train(fold, EncodeurNet, nb_epoch, score_weight, l1_lambda_fc1, l2_lambda_fc1, dim, spacing, scale, sigma, \n",
    "                    num_workers, drop_encode, batch_size, learning_rate, patience, weight_decay, dir_p, path_list, seed)\n",
    "        \n",
    "        #EVALUATION\n",
    "        print('LIST PATIENT', ind_list, ' - FOLD', fold, ' - VALIDATION')\n",
    "        path_train_val = os.path.join(path_list, 'Fold'+ str(fold))\n",
    "        list_val = list(np.load(path_train_val+'/list_val.npy'))\n",
    "        val_label_classe = np.load(path_train_val+'/val_label_classe.npy')\n",
    "        evaluation(EncodeurNet, list_val, val_label_classe, scale, sigma, dim, spacing, num_workers, dir_p_1)\n",
    "\n",
    "        #TEST\n",
    "        print('LIST PATIENT', ind_list, ' - FOLD', fold, ' - TEST')\n",
    "        test_prob = evaluation(EncodeurNet, list_test, test_label_classe, scale, sigma, dim, spacing, num_workers, dir_p_2)\n",
    "        np.save(os.path.join(dir_p, 'test_prob.npy'), test_prob)\n",
    "        print(' ')\n",
    "\n",
    "        del EncodeurNet"
   ]
  },
  {
   "cell_type": "code",
   "execution_count": 6,
   "metadata": {},
   "outputs": [
    {
     "name": "stderr",
     "output_type": "stream",
     "text": [
      "[NbConvertApp] Converting notebook roc_Precision_Recall.ipynb to python\n",
      "[NbConvertApp] Writing 4174 bytes to roc_Precision_Recall.py\n",
      "/home/nguyen-k/Bureau/segCassiopet2/roc_Precision_Recall.py:81: UserWarning: Matplotlib is currently using agg, which is a non-GUI backend, so cannot show the figure.\n",
      "  plt.show()\n"
     ]
    },
    {
     "name": "stdout",
     "output_type": "stream",
     "text": [
      "LIST PATIENT 0\n",
      "Micro F1 score  0.6326530612244898\n",
      "Macro F1 score  0.25833333333333336\n",
      "Weighted F1 score  0.5535714285714286\n"
     ]
    }
   ],
   "source": [
    "os.system('jupyter nbconvert --to python roc_Precision_Recall.ipynb')\n",
    "from roc_Precision_Recall import *\n",
    "#from sklearn.metrics import confusion_matrix\n",
    "\n",
    "for ind_list in range() : \n",
    "\n",
    "    print('LIST PATIENT', ind_list)  \n",
    "\n",
    "    test = 'Encodeur_PET_L'+str(ind_list)\n",
    "    dir_base = '/home/nguyen-k/Bureau/segCassiopet2/Comparatif/Archives_Encodeur/'+test\n",
    "\n",
    "    fold = 1\n",
    "    dir_p = dir_base+'/Fold'+str(fold)\n",
    "    sum = np.load(os.path.join(dir_p, 'test_prob.npy'))\n",
    "\n",
    "    path_list = '/home/nguyen-k/Bureau/segCassiopet2/List_Patient_'+str(ind_list)\n",
    "    list_test = list(np.load(path_list + '/Test/list_test.npy'))\n",
    "    test_label_classe = np.load(path_list + '/Test/test_label_classe.npy')   \n",
    "    test_label_classe = np.array(test_label_classe, dtype=np.uint8)\n",
    "\n",
    "    for fold in range(2, 6) :\n",
    "        dir_p = dir_base+'/Fold'+str(fold)\n",
    "        test_prob = np.load(os.path.join(dir_p, 'test_prob.npy'))\n",
    "        sum += test_prob\n",
    "\n",
    "    test_prob = sum / 5\n",
    "\n",
    "    pred = np.zeros(test_label_classe.shape[0])\n",
    "    for i in range(test_label_classe.shape[0]) : \n",
    "        pred[i] = np.argmax(test_prob[i])\n",
    "\n",
    "    mat_label = np.zeros((test_label_classe.shape[0],3))\n",
    "    for i in range(test_label_classe.shape[0]) :\n",
    "        mat_label[i, int(test_label_classe[i])] = 1\n",
    "\n",
    "    roc_auc, fpr, tpr = compute_ROC_auc(y_label=mat_label,y_predicted=test_prob,n_classes=3)\n",
    "    plt.clf()\n",
    "    plot_ROC_curve(fpr,tpr,roc_auc,classe=0,color='blue')\n",
    "    plot_ROC_curve(fpr,tpr,roc_auc,classe=1,color='red')\n",
    "    plot_ROC_curve(fpr,tpr,roc_auc,classe=2,color='black')\n",
    "    plt.savefig(dir_base+'/ROC.png')\n",
    "\n",
    "    precision, recall,average_precision = compute_precision_recall(y_label=mat_label,y_predicted=test_prob,n_classes=3)\n",
    "    plot_precision_recall_curve(precision, recall, average_precision,n_classes=3,color=['blue','red','black'])\n",
    "    plt.savefig(dir_base+'/AUC.png')\n",
    "\n",
    "    print('Micro F1 score ', f1_score(y_true=test_label_classe, y_pred=pred, average='micro'))\n",
    "    print('Macro F1 score ', f1_score(y_true=test_label_classe, y_pred=pred, average='macro'))\n",
    "    print('Weighted F1 score ', f1_score(y_true=test_label_classe, y_pred=pred, average='weighted'))\n",
    "\n",
    "    '''matrix = confusion_matrix(test_label_classe, pred)\n",
    "    accracy_per_class = matrix.diagonal()/matrix.sum(axis=1)\n",
    "    print('Accuracy C1 = ', accracy_per_class[0])\n",
    "    print('Accuracy C2 = ', accracy_per_class[1])\n",
    "    print('Accuracy C3 = ', accracy_per_class[2])'''"
   ]
  }
 ],
 "metadata": {
  "interpreter": {
   "hash": "31f2aee4e71d21fbe5cf8b01ff0e069b9275f58929596ceb00d14d90e3e16cd6"
  },
  "kernelspec": {
   "display_name": "Python 3.8.10 64-bit",
   "language": "python",
   "name": "python3"
  },
  "language_info": {
   "codemirror_mode": {
    "name": "ipython",
    "version": 3
   },
   "file_extension": ".py",
   "mimetype": "text/x-python",
   "name": "python",
   "nbconvert_exporter": "python",
   "pygments_lexer": "ipython3",
   "version": "3.10.4"
  },
  "orig_nbformat": 4
 },
 "nbformat": 4,
 "nbformat_minor": 2
}
