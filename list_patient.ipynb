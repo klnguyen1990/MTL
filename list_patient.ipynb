{
 "cells": [
  {
   "cell_type": "code",
   "execution_count": null,
   "metadata": {},
   "outputs": [],
   "source": [
    "from sklearn.model_selection import train_test_split\n",
    "from sklearn.model_selection import StratifiedKFold\n",
    "import numpy as np\n",
    "\n",
    "os.system('jupyter nbconvert --to python preprocessing_Pytorch.ipynb')\n",
    "from preprocessing_Pytorch import *"
   ]
  },
  {
   "cell_type": "code",
   "execution_count": null,
   "metadata": {},
   "outputs": [],
   "source": [
    "# get list of all patients (list_patient)\n",
    "# get list of treatment response label (label_classe)\n",
    "list_patient, label_classe = score_de_deauville(task=3)\n",
    "path_label = '/home/nguyen-k/Bureau/segCassiopet/labels_seg'\n",
    "list_label = os.listdir(path_label)\n",
    "\n",
    "label_classe_1 = label_classe.copy()\n",
    "data_patient = np.zeros((len(list_patient), 3))\n",
    "\n",
    "#make label for POSITIF/NEGATIF patient + treatment response label\n",
    "for i in range(len(list_patient)) : \n",
    "    name_label = 'cassiopet_' + list_patient[i].replace('-', '') + '.nii.gz'\n",
    "    if  name_label in list_label :\n",
    "        label_classe_1[i] += 3\n",
    "recap = []\n",
    "for i in range(6) :\n",
    "    recap.append(label_classe_1.count(i))\n",
    "print(recap)"
   ]
  },
  {
   "cell_type": "code",
   "execution_count": null,
   "metadata": {},
   "outputs": [],
   "source": [
    "# split training set with 49 patient for test set\n",
    "'''list_patient, list_test, train_label_classe, test_label_classe = train_test_split(list_patient, label_classe, \n",
    "                                                                                train_size = len(list_patient) - 49, \n",
    "                                                                                random_state = 40, stratify = label_classe_1, shuffle = True)'''"
   ]
  },
  {
   "cell_type": "code",
   "execution_count": null,
   "metadata": {},
   "outputs": [],
   "source": [
    "# get 3 list of test set\n",
    "list_test_0 = ['147-08', '022-08', '038-27', '038-24', '035-30', '044-12', '904-06', '041-29', '034-14', '909-17', '041-14', '015-12', '034-26',\n",
    "               '034-19', '074-03', '021-04', '007-03', '024-04', '019-16', '147-05', '031-14', '909-21', '041-15', '024-08', '038-17', '041-16',\n",
    "               '015-17', '050-15', '019-24', '009-30', '015-14', '035-38', '019-19', '022-12', '019-22', '173-11', '050-12', '031-27', '926-16',\n",
    "               '029-20', '015-20', '015-21', '034-05', '034-24', '031-13', '007-08', '031-24', '152-10', '007-09']\n",
    "               \n",
    "list_test_1 = ['019-13', '034-36', '034-37', '019-20', '031-06', '029-22', '035-32', '009-32', '007-19', '019-17', '029-23', '015-18', '095-14', \n",
    "               '031-23', '152-18', '009-28', '034-29', '031-17', '152-15', '007-04', '119-10', '019-29', '038-28', '041-26', '038-26', '029-25',\n",
    "               '035-26', '050-11', '104-22', '035-22', '034-25', '152-16', '147-07', '007-11', '041-23', '034-32', '035-29', '019-14', '041-27', \n",
    "               '025-05', '074-09', '046-18', '029-30', '173-15', '019-32', '104-24', '055-09', '152-17', '064-10']\n",
    "               \n",
    "list_test_2 = ['038-20', '015-16', '031-10', '015-19', '019-18', '019-25', '041-28', '050-18', '034-22', '074-04', '095-18', '038-25', '035-33', \n",
    "               '074-11', '074-06', '173-13', '035-39', '167-13', '064-04', '035-34', '009-38', '046-17', '019-28', '095-15', '152-21', '152-22',\n",
    "               '909-18', '055-06', '042-10', '035-35', '050-13', '055-08', '167-10', '007-16', '029-21', '035-28', '047-18', '034-35', '031-12',\n",
    "               '029-27', '031-16', '042-08', '152-14', '015-15', '119-07', '015-10', '041-11', '029-19', '019-21']"
   ]
  },
  {
   "cell_type": "code",
   "execution_count": null,
   "metadata": {},
   "outputs": [],
   "source": [
    "# check the independence of 3 test set\n",
    "for i in list_test_0 :\n",
    "    if i in list_test_1 or i in list_test_2 :\n",
    "        print('Error')\n",
    "for i in list_test_1 :\n",
    "    if i in list_test_0 or i in list_test_2 :\n",
    "        print('Error')"
   ]
  },
  {
   "cell_type": "code",
   "execution_count": null,
   "metadata": {},
   "outputs": [],
   "source": [
    "# get list patient 0\n",
    "ind_list = 0\n",
    "list_test = list_test_0"
   ]
  },
  {
   "cell_type": "code",
   "execution_count": null,
   "metadata": {},
   "outputs": [],
   "source": [
    "# get test label\n",
    "test_label_classe = np.empty(len(list_test))\n",
    "test_label_classe_1 = np.empty(len(list_test))\n",
    "\n",
    "for i in range(len(list_patient)) :\n",
    "    for j in range(len(list_test)) :\n",
    "        if list_patient[i] == list_test[j] :\n",
    "            test_label_classe[j] = label_classe[i]\n",
    "            test_label_classe_1[j] = label_classe_1[i]"
   ]
  },
  {
   "cell_type": "code",
   "execution_count": null,
   "metadata": {},
   "outputs": [],
   "source": [
    "# check number of samples per class\n",
    "recap=[]\n",
    "for i in range(24) :\n",
    "    recap.append(test_label_classe_1.tolist().count(i))\n",
    "print(recap)"
   ]
  },
  {
   "cell_type": "code",
   "execution_count": null,
   "metadata": {},
   "outputs": [],
   "source": [
    "# check test set \n",
    "for i in range(10) :\n",
    "    print(list_test[i], test_label_classe[i])"
   ]
  },
  {
   "cell_type": "code",
   "execution_count": null,
   "metadata": {},
   "outputs": [],
   "source": [
    "# get training set\n",
    "list_train, train_label_classe = [], []\n",
    "for i in range(len(list_patient)) :\n",
    "    if list_patient[i] not in list_test :\n",
    "        list_train.append(list_patient[i])\n",
    "        train_label_classe.append(label_classe[i])"
   ]
  },
  {
   "cell_type": "code",
   "execution_count": null,
   "metadata": {},
   "outputs": [],
   "source": [
    "# check training set\n",
    "for i in range(10) :\n",
    "    print(list_train[i], train_label_classe[i])"
   ]
  },
  {
   "cell_type": "code",
   "execution_count": null,
   "metadata": {},
   "outputs": [],
   "source": [
    "# count number of sample per class for training set \n",
    "c1 = train_label_classe.count(0)\n",
    "c2 = train_label_classe.count(1)\n",
    "c3 = train_label_classe.count(2)\n",
    "print(c1, c2, c3)\n",
    "\n",
    "# count number of sample per class for test set\n",
    "c1 = test_label_classe.tolist().count(0)\n",
    "c2 = test_label_classe.tolist().count(1)\n",
    "c3 = test_label_classe.tolist().count(2)\n",
    "print(c1, c2, c3)"
   ]
  },
  {
   "cell_type": "code",
   "execution_count": null,
   "metadata": {},
   "outputs": [],
   "source": [
    "# save test set in a directory\n",
    "path = '/home/nguyen-k/Bureau/segCassiopet/List_Patient_'+str(ind_list)\n",
    "path_test = path+'/Test'\n",
    "\n",
    "np.save(path_test+'/list_test.npy', list_test)\n",
    "np.save(path_test+'/test_label_classe.npy', test_label_classe)"
   ]
  },
  {
   "cell_type": "code",
   "execution_count": null,
   "metadata": {},
   "outputs": [],
   "source": [
    "# make label for POSITIF/NEGATIF patient + treatment response label\n",
    "\n",
    "train_label_classe_1 = train_label_classe.copy()\n",
    "\n",
    "for i in range(len(list_train)) : \n",
    "    name_label = 'cassiopet_' + list_train[i].replace('-', '') + '.nii.gz'\n",
    "    if  name_label in list_label :\n",
    "        train_label_classe_1[i] += 3\n",
    "\n",
    "c1 = train_label_classe_1.count(0)\n",
    "c2 = train_label_classe_1.count(1)\n",
    "c3 = train_label_classe_1.count(2)\n",
    "c4 = train_label_classe_1.count(3)\n",
    "c5 = train_label_classe_1.count(4)\n",
    "c6 = train_label_classe_1.count(5)"
   ]
  },
  {
   "cell_type": "code",
   "execution_count": null,
   "metadata": {},
   "outputs": [],
   "source": [
    "# get train and validation set over 5 folds\n",
    "\n",
    "skf = StratifiedKFold(n_splits=5, random_state = 40, shuffle=True)\n",
    "fold = 1\n",
    "\n",
    "for train_index, val_index in skf.split(list_train, train_label_classe_1):\n",
    "    print('FOLD', fold)\n",
    "    path_train_val = path+'/Fold'+str(fold)\n",
    "    \n",
    "    list_train_fold = [list_train[i] for i in train_index]    \n",
    "    train_label_classe_fold = [train_label_classe[i] for i in train_index]\n",
    "\n",
    "    list_val_fold = [list_train[i] for i in val_index]\n",
    "    val_label_classe_fold = [train_label_classe[i] for i in val_index]\n",
    "\n",
    "    np.save(path_train_val+'/list_train.npy', list_train_fold)\n",
    "    np.save(path_train_val+'/train_label_classe.npy', train_label_classe_fold)\n",
    "    np.save(path_train_val+'/list_val.npy', list_val_fold)\n",
    "    np.save(path_train_val+'/val_label_classe.npy', val_label_classe_fold)\n",
    "\n",
    "    train_c1 = train_label_classe_fold.count(0)\n",
    "    train_c2 = train_label_classe_fold.count(1)\n",
    "    train_c3 = train_label_classe_fold.count(2)\n",
    "\n",
    "    val_c1 = val_label_classe_fold.count(0)\n",
    "    val_c2 = val_label_classe_fold.count(1)\n",
    "    val_c3 = val_label_classe_fold.count(2)\n",
    "\n",
    "    print(train_c1, train_c2, train_c3)\n",
    "    print(val_c1, val_c2, val_c3)\n",
    "    print(' ')\n",
    "\n",
    "    fold += 1"
   ]
  }
 ],
 "metadata": {
  "interpreter": {
   "hash": "31f2aee4e71d21fbe5cf8b01ff0e069b9275f58929596ceb00d14d90e3e16cd6"
  },
  "kernelspec": {
   "display_name": "Python 3.9.5 64-bit",
   "language": "python",
   "name": "python3"
  },
  "language_info": {
   "codemirror_mode": {
    "name": "ipython",
    "version": 3
   },
   "file_extension": ".py",
   "mimetype": "text/x-python",
   "name": "python",
   "nbconvert_exporter": "python",
   "pygments_lexer": "ipython3",
   "version": "3.10.4"
  },
  "orig_nbformat": 4
 },
 "nbformat": 4,
 "nbformat_minor": 2
}
